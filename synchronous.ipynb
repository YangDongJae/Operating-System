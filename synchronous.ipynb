{
 "cells": [
  {
   "cell_type": "code",
   "execution_count": 1,
   "metadata": {},
   "outputs": [],
   "source": [
    "class process:\n",
    "    def __init__(self,pid):\n",
    "        self.pid = pid\n",
    "        self.flag = False\n",
    "        \n",
    "    def get_flag(self):\n",
    "        return self.flag\n",
    "    \n",
    "    def convert_flag(self):\n",
    "        if self.flag == True:\n",
    "            self.flag = False\n",
    "        else:\n",
    "            self.flag = True\n",
    "        \n",
    "        \n",
    "        \n",
    "        "
   ]
  },
  {
   "cell_type": "code",
   "execution_count": 3,
   "metadata": {},
   "outputs": [],
   "source": [
    "p1 = process(1)\n",
    "p2 = process(2)"
   ]
  },
  {
   "cell_type": "code",
   "execution_count": 6,
   "metadata": {},
   "outputs": [
    {
     "name": "stdout",
     "output_type": "stream",
     "text": [
      "True\n"
     ]
    },
    {
     "ename": "KeyboardInterrupt",
     "evalue": "",
     "output_type": "error",
     "traceback": [
      "\u001b[0;31m---------------------------------------------------------------------------\u001b[0m",
      "\u001b[0;31mKeyboardInterrupt\u001b[0m                         Traceback (most recent call last)",
      "Cell \u001b[0;32mIn[6], line 8\u001b[0m\n\u001b[1;32m      6\u001b[0m \u001b[39mwhile\u001b[39;00m p2\u001b[39m.\u001b[39mget_flag:\n\u001b[1;32m      7\u001b[0m     p1\u001b[39m.\u001b[39mconvert_flag()\n\u001b[0;32m----> 8\u001b[0m     \u001b[39mwhile\u001b[39;00m turn \u001b[39m==\u001b[39m \u001b[39m1\u001b[39m:\n\u001b[1;32m      9\u001b[0m         \u001b[39mprint\u001b[39m(\u001b[39m\"\u001b[39m\u001b[39mwaiting...\u001b[39m\u001b[39m\"\u001b[39m)\n\u001b[1;32m     10\u001b[0m     p1\u001b[39m.\u001b[39mconvert_flag()\n",
      "\u001b[0;31mKeyboardInterrupt\u001b[0m: "
     ]
    }
   ],
   "source": [
    "turn = 0\n",
    "\n",
    "while True:\n",
    "    p1.convert_flag()\n",
    "    print(p1.get_flag())\n",
    "    \n",
    "    while p2.get_flag:\n",
    "        p1.convert_flag()\n",
    "        while turn == 1:\n",
    "            print(\"waiting...\")\n",
    "        p1.convert_flag()\n",
    "    print(\"Enter to the Critical Section\")"
   ]
  },
  {
   "cell_type": "code",
   "execution_count": null,
   "metadata": {},
   "outputs": [],
   "source": []
  }
 ],
 "metadata": {
  "kernelspec": {
   "display_name": "Python 3",
   "language": "python",
   "name": "python3"
  },
  "language_info": {
   "codemirror_mode": {
    "name": "ipython",
    "version": 3
   },
   "file_extension": ".py",
   "mimetype": "text/x-python",
   "name": "python",
   "nbconvert_exporter": "python",
   "pygments_lexer": "ipython3",
   "version": "3.9.6"
  },
  "orig_nbformat": 4
 },
 "nbformat": 4,
 "nbformat_minor": 2
}
